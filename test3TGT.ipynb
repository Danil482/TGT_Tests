{
 "cells": [
  {
   "cell_type": "markdown",
   "metadata": {},
   "source": [
    "#### Написать алгоритм генерации бинарного изображения, содержащее непересекающиеся произвольные (разной геометрии и размеров) треугольники и прямоугольники. Необходимо распознать и повернуть все треугольники на изображении на 45 градусов относительно своих центров масс. Учесть наличие пересечения поворачиваемых фигур: если поворот невозможен без пересечения, выдавать предупреждение. Запрещено пользоваться готовыми функциями из пакетов image processing."
   ]
  },
  {
   "cell_type": "code",
   "execution_count": 12,
   "metadata": {},
   "outputs": [],
   "source": [
    "from PIL import ImageDraw\n",
    "class Shape:\n",
    "    def __init__(self, vertices):\n",
    "        self.vertices = vertices  # Координаты вершин фигуры\n",
    "    \n",
    "    def check_intersection(self, shape):\n",
    "        pass\n",
    "    \n",
    "    def draw(self, image):\n",
    "        draw = ImageDraw.Draw(image)\n",
    "        draw.polygon(self.vertices, fill=1)"
   ]
  },
  {
   "cell_type": "code",
   "execution_count": 13,
   "metadata": {},
   "outputs": [],
   "source": [
    "class Triangle(Shape):\n",
    "    def __init__(self, vertices):\n",
    "        super().__init__(vertices)\n",
    "\n",
    "def check_intersection(self, shape):\n",
    "        # Проверка пересечения треугольников\n",
    "        if isinstance(shape, Triangle):\n",
    "            edges1 = [(self.vertices[i], self.vertices[(i + 1) % 3]) for i in range(3)]\n",
    "            edges2 = [(shape.vertices[i], shape.vertices[(i + 1) % 3]) for i in range(3)]\n",
    "            \n",
    "            for edge1 in edges1:\n",
    "                for edge2 in edges2:\n",
    "                    if self._do_edges_intersect(edge1, edge2):\n",
    "                        return True\n",
    "        \n",
    "        return False\n",
    "    \n",
    "def _do_edges_intersect(self, edge1, edge2):\n",
    "    x1, y1 = edge1[0]\n",
    "    x2, y2 = edge1[1]\n",
    "    x3, y3 = edge2[0]\n",
    "    x4, y4 = edge2[1]\n",
    "    \n",
    "    # Вычисление ориентированных площадей треугольников\n",
    "    d1 = (x3 - x1) * (y2 - y1) - (x2 - x1) * (y3 - y1)\n",
    "    d2 = (x4 - x1) * (y2 - y1) - (x2 - x1) * (y4 - y1)\n",
    "    d3 = (x1 - x3) * (y4 - y3) - (x4 - x3) * (y1 - y3)\n",
    "    d4 = (x2 - x3) * (y4 - y3) - (x4 - x3) * (y2 - y3)\n",
    "    \n",
    "    # Проверка условий пересечения\n",
    "    if (d1 * d2 > 0) or (d3 * d4 > 0):\n",
    "        return True\n",
    "    \n",
    "    # Проверка случаев, когда ребра лежат на одной прямой\n",
    "    if (d1 == 0) and self._is_point_between(edge1[0], edge1[1], edge2[0]):\n",
    "        return True\n",
    "    if (d2 == 0) and self._is_point_between(edge1[0], edge1[1], edge2[1]):\n",
    "        return True\n",
    "    if (d3 == 0) and self._is_point_between(edge2[0], edge2[1], edge1[0]):\n",
    "        return True\n",
    "    if (d4 == 0) and self._is_point_between(edge2[0], edge2[1], edge1[1]):\n",
    "        return True\n",
    "    \n",
    "    return False\n",
    "\n",
    "def _is_point_between(self, p1, p2, p):\n",
    "    x1, y1 = p1\n",
    "    x2, y2 = p2\n",
    "    x, y = p\n",
    "    \n",
    "    # Проверка, находится ли точка p между точками p1 и p2\n",
    "    return (min(x1, x2) <= x <= max(x1, x2)) and (min(y1, y2) <= y <= max(y1, y2))"
   ]
  },
  {
   "cell_type": "code",
   "execution_count": 14,
   "metadata": {},
   "outputs": [],
   "source": [
    "class Rectangle(Shape):\n",
    "    def __init__(self, vertices):\n",
    "        super().__init__(vertices)"
   ]
  },
  {
   "cell_type": "code",
   "execution_count": 15,
   "metadata": {},
   "outputs": [],
   "source": [
    "from PIL import Image\n",
    "class MyImage:\n",
    "    def __init__(self, width, height):\n",
    "        self.width = width\n",
    "        self.height = height\n",
    "        self.shapes = []\n",
    "        \n",
    "    def check_intersections(self, shape):\n",
    "        for i in range(len(self.shapes)):\n",
    "            if shape.check_intersection(self.shapes[i]):\n",
    "                return True\n",
    "        return False\n",
    "    \n",
    "    def add_shape(self, shape):\n",
    "        if not self.check_intersections(shape):\n",
    "            self.shapes.append(shape)\n",
    "\n",
    "    def draw(self): \n",
    "        image = Image.new(\"1\", (self.width, self.height))  \n",
    "        for shape in self.shapes:\n",
    "            shape.draw(image)\n",
    "        image.save('shapes1.jpg')"
   ]
  },
  {
   "cell_type": "code",
   "execution_count": 20,
   "metadata": {},
   "outputs": [],
   "source": [
    "triangle1 = Triangle([(50, 50), (250, 200), (100, 300)])\n",
    "triangle2 = Triangle([(300, 50), (400, 100), (350, 200)])\n",
    "triangle3 = Triangle([(200, 200), (350, 100), (450, 200)])\n",
    "\n",
    "image = MyImage(500, 500)\n",
    "\n",
    "image.add_shape(triangle1)\n",
    "image.add_shape(triangle2)\n",
    "image.add_shape(triangle3)\n",
    "\n",
    "image.draw()"
   ]
  }
 ],
 "metadata": {
  "kernelspec": {
   "display_name": "Python 3",
   "language": "python",
   "name": "python3"
  },
  "language_info": {
   "codemirror_mode": {
    "name": "ipython",
    "version": 3
   },
   "file_extension": ".py",
   "mimetype": "text/x-python",
   "name": "python",
   "nbconvert_exporter": "python",
   "pygments_lexer": "ipython3",
   "version": "3.11.2"
  },
  "orig_nbformat": 4
 },
 "nbformat": 4,
 "nbformat_minor": 2
}
